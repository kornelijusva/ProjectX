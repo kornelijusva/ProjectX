{
 "cells": [
  {
   "cell_type": "markdown",
   "metadata": {},
   "source": [
    "# Recurrent Neural Networks\n",
    "\n",
    "### Practical Session\n",
    "\n",
    "<br/> Prof. Dr. Georgios K. Ouzounis\n",
    "<br/> email: georgios.ouzounis@go.kauko.lt"
   ]
  },
  {
   "cell_type": "markdown",
   "metadata": {},
   "source": [
    "## Contents\n",
    "\n",
    "1. Data loading and pre-processing\n",
    "2. Building the RNN\n",
    "3. Train and deploy the RNN\n",
    "4. Improving the RNN"
   ]
  },
  {
   "cell_type": "markdown",
   "metadata": {},
   "source": [
    "## Challenge"
   ]
  },
  {
   "cell_type": "markdown",
   "metadata": {},
   "source": [
    "<img src=\"https://www.sapientrade.com/images/2017/02/14/AI-Machine-Learning-Trading-Benefits.jpg\" width=\"800\" align=\"left\"/>"
   ]
  },
  {
   "cell_type": "markdown",
   "metadata": {},
   "source": [
    "Given a 5-year history of the Google Stock prices predict the stock values for the period of the recent most month that are not included in the historical data."
   ]
  },
  {
   "cell_type": "markdown",
   "metadata": {},
   "source": [
    "## Data loading and pre-processing"
   ]
  },
  {
   "cell_type": "markdown",
   "metadata": {},
   "source": [
    "### Download the data-sets\n",
    "\n",
    "The data-sets are two comma-separated values files (CSV) and contain a data table of 1258 records for training and a table of 21 records for testing.\n",
    "\n",
    "They can be found at the [Kaggle.com website](https://www.kaggle.com/akram24/google-stock-price-train) or at various web locations after searching for the filenames: \n",
    "\n",
    "**Google_Stock_Price_Test.csv** and **Google_Stock_Price_Train.csv**\n",
    "\n",
    "Known alternative location: Github user [pdway53](https://github.com/pdway53/Predict_Google_Stock_Price_RNN) \n",
    "\n",
    "Open a terminal and use the wget command to get it of the selected location. Example:\n",
    "\n",
    "```shell\n",
    "wget https://raw.githubusercontent.com/pdway53/Predict_Google_Stock_Price_RNN/master/Google_Stock_Price_Test.csv\n",
    "\n",
    "wget https://raw.githubusercontent.com/pdway53/Predict_Google_Stock_Price_RNN/master/Google_Stock_Price_Train.csv \n",
    "```\n"
   ]
  },
  {
   "cell_type": "markdown",
   "metadata": {},
   "source": [
    "### Import libraries\n",
    "\n",
    "We need 3 main libraries:\n",
    "\n",
    "- [Numpy](http://www.numpy.org): it is the fundamental package for scientific computing with Python. It contains among other things a powerful N-dimensional array object that can be used as an efficient multi-dimensional container of generic data. Arbitrary data-types can be defined.\n",
    "- [matplotlib](https://matplotlib.org):  it is a Python 2D plotting library which produces publication quality figures in a variety of hardcopy formats and interactive environments across platforms.\n",
    "- [pandas](https://pandas.pydata.org): is a software library written for the Python programming language for data manipulation and analysis. In particular, it offers data structures and operations for manipulating numerical tables and time series."
   ]
  },
  {
   "cell_type": "code",
   "execution_count": 185,
   "metadata": {},
   "outputs": [],
   "source": [
    "# importing the libraries\n",
    "import numpy as np\n",
    "import matplotlib.pyplot as plt\n",
    "import pandas as pd"
   ]
  },
  {
   "cell_type": "markdown",
   "metadata": {},
   "source": [
    "### Import the dataset"
   ]
  },
  {
   "cell_type": "markdown",
   "metadata": {},
   "source": [
    "Dataset description: the open high, low and close values of the Google Stock from 2012 to 2016. [Relevant code here](https://github.com/pdway53/Predict_Google_Stock_Price_RNN)\n"
   ]
  },
  {
   "cell_type": "code",
   "execution_count": 186,
   "metadata": {},
   "outputs": [],
   "source": [
    "#importing the dataset\n",
    "# load the file contents \n",
    "dataset_train = pd.read_csv('training_data.csv')"
   ]
  },
  {
   "cell_type": "code",
   "execution_count": 187,
   "metadata": {},
   "outputs": [
    {
     "data": {
      "text/html": [
       "<div>\n",
       "<style scoped>\n",
       "    .dataframe tbody tr th:only-of-type {\n",
       "        vertical-align: middle;\n",
       "    }\n",
       "\n",
       "    .dataframe tbody tr th {\n",
       "        vertical-align: top;\n",
       "    }\n",
       "\n",
       "    .dataframe thead th {\n",
       "        text-align: right;\n",
       "    }\n",
       "</style>\n",
       "<table border=\"1\" class=\"dataframe\">\n",
       "  <thead>\n",
       "    <tr style=\"text-align: right;\">\n",
       "      <th></th>\n",
       "      <th>Date</th>\n",
       "      <th>Open</th>\n",
       "      <th>High</th>\n",
       "      <th>Low</th>\n",
       "      <th>Close</th>\n",
       "      <th>Adj Close</th>\n",
       "      <th>Volume</th>\n",
       "    </tr>\n",
       "  </thead>\n",
       "  <tbody>\n",
       "    <tr>\n",
       "      <th>0</th>\n",
       "      <td>2009-07-01</td>\n",
       "      <td>41.150002</td>\n",
       "      <td>43.810001</td>\n",
       "      <td>41.009998</td>\n",
       "      <td>42.520000</td>\n",
       "      <td>42.520000</td>\n",
       "      <td>5933800</td>\n",
       "    </tr>\n",
       "    <tr>\n",
       "      <th>1</th>\n",
       "      <td>2009-07-02</td>\n",
       "      <td>41.330002</td>\n",
       "      <td>42.160000</td>\n",
       "      <td>39.060001</td>\n",
       "      <td>39.689999</td>\n",
       "      <td>39.689999</td>\n",
       "      <td>2730900</td>\n",
       "    </tr>\n",
       "    <tr>\n",
       "      <th>2</th>\n",
       "      <td>2009-07-06</td>\n",
       "      <td>39.709999</td>\n",
       "      <td>39.709999</td>\n",
       "      <td>36.919998</td>\n",
       "      <td>37.299999</td>\n",
       "      <td>37.299999</td>\n",
       "      <td>2627800</td>\n",
       "    </tr>\n",
       "    <tr>\n",
       "      <th>3</th>\n",
       "      <td>2009-07-07</td>\n",
       "      <td>37.259998</td>\n",
       "      <td>38.740002</td>\n",
       "      <td>36.419998</td>\n",
       "      <td>38.299999</td>\n",
       "      <td>38.299999</td>\n",
       "      <td>2153200</td>\n",
       "    </tr>\n",
       "    <tr>\n",
       "      <th>4</th>\n",
       "      <td>2009-07-08</td>\n",
       "      <td>38.000000</td>\n",
       "      <td>38.220001</td>\n",
       "      <td>36.889999</td>\n",
       "      <td>38.209999</td>\n",
       "      <td>38.209999</td>\n",
       "      <td>2341000</td>\n",
       "    </tr>\n",
       "    <tr>\n",
       "      <th>...</th>\n",
       "      <td>...</td>\n",
       "      <td>...</td>\n",
       "      <td>...</td>\n",
       "      <td>...</td>\n",
       "      <td>...</td>\n",
       "      <td>...</td>\n",
       "      <td>...</td>\n",
       "    </tr>\n",
       "    <tr>\n",
       "      <th>2532</th>\n",
       "      <td>2019-07-24</td>\n",
       "      <td>31.280001</td>\n",
       "      <td>32.380001</td>\n",
       "      <td>30.730000</td>\n",
       "      <td>32.259998</td>\n",
       "      <td>32.259998</td>\n",
       "      <td>462800</td>\n",
       "    </tr>\n",
       "    <tr>\n",
       "      <th>2533</th>\n",
       "      <td>2019-07-25</td>\n",
       "      <td>32.160000</td>\n",
       "      <td>32.180000</td>\n",
       "      <td>31.490000</td>\n",
       "      <td>31.719999</td>\n",
       "      <td>31.719999</td>\n",
       "      <td>310900</td>\n",
       "    </tr>\n",
       "    <tr>\n",
       "      <th>2534</th>\n",
       "      <td>2019-07-26</td>\n",
       "      <td>31.780001</td>\n",
       "      <td>32.209999</td>\n",
       "      <td>31.350000</td>\n",
       "      <td>32.040001</td>\n",
       "      <td>32.040001</td>\n",
       "      <td>260700</td>\n",
       "    </tr>\n",
       "    <tr>\n",
       "      <th>2535</th>\n",
       "      <td>2019-07-29</td>\n",
       "      <td>31.959999</td>\n",
       "      <td>32.020000</td>\n",
       "      <td>31.250000</td>\n",
       "      <td>31.469999</td>\n",
       "      <td>31.469999</td>\n",
       "      <td>291000</td>\n",
       "    </tr>\n",
       "    <tr>\n",
       "      <th>2536</th>\n",
       "      <td>2019-07-30</td>\n",
       "      <td>30.820000</td>\n",
       "      <td>32.380001</td>\n",
       "      <td>30.500000</td>\n",
       "      <td>32.000000</td>\n",
       "      <td>32.000000</td>\n",
       "      <td>596400</td>\n",
       "    </tr>\n",
       "  </tbody>\n",
       "</table>\n",
       "<p>2537 rows × 7 columns</p>\n",
       "</div>"
      ],
      "text/plain": [
       "            Date       Open       High        Low      Close  Adj Close  \\\n",
       "0     2009-07-01  41.150002  43.810001  41.009998  42.520000  42.520000   \n",
       "1     2009-07-02  41.330002  42.160000  39.060001  39.689999  39.689999   \n",
       "2     2009-07-06  39.709999  39.709999  36.919998  37.299999  37.299999   \n",
       "3     2009-07-07  37.259998  38.740002  36.419998  38.299999  38.299999   \n",
       "4     2009-07-08  38.000000  38.220001  36.889999  38.209999  38.209999   \n",
       "...          ...        ...        ...        ...        ...        ...   \n",
       "2532  2019-07-24  31.280001  32.380001  30.730000  32.259998  32.259998   \n",
       "2533  2019-07-25  32.160000  32.180000  31.490000  31.719999  31.719999   \n",
       "2534  2019-07-26  31.780001  32.209999  31.350000  32.040001  32.040001   \n",
       "2535  2019-07-29  31.959999  32.020000  31.250000  31.469999  31.469999   \n",
       "2536  2019-07-30  30.820000  32.380001  30.500000  32.000000  32.000000   \n",
       "\n",
       "       Volume  \n",
       "0     5933800  \n",
       "1     2730900  \n",
       "2     2627800  \n",
       "3     2153200  \n",
       "4     2341000  \n",
       "...       ...  \n",
       "2532   462800  \n",
       "2533   310900  \n",
       "2534   260700  \n",
       "2535   291000  \n",
       "2536   596400  \n",
       "\n",
       "[2537 rows x 7 columns]"
      ]
     },
     "execution_count": 187,
     "metadata": {},
     "output_type": "execute_result"
    }
   ],
   "source": [
    "#showing the latest and newest stock information.\n",
    "dataset_train"
   ]
  },
  {
   "cell_type": "code",
   "execution_count": 188,
   "metadata": {},
   "outputs": [],
   "source": [
    "# Create a subtable of relevant entries (open values)\n",
    "# The .values makes this vector a numpy array\n",
    "training_set = dataset_train.iloc[:, 1:2].values "
   ]
  },
  {
   "cell_type": "code",
   "execution_count": 189,
   "metadata": {},
   "outputs": [
    {
     "data": {
      "text/plain": [
       "array([[41.150002],\n",
       "       [41.330002],\n",
       "       [39.709999],\n",
       "       ...,\n",
       "       [31.780001],\n",
       "       [31.959999],\n",
       "       [30.82    ]])"
      ]
     },
     "execution_count": 189,
     "metadata": {},
     "output_type": "execute_result"
    }
   ],
   "source": [
    "#there are examples that are randomly drawn for training purpose.\n",
    "training_set"
   ]
  },
  {
   "cell_type": "markdown",
   "metadata": {},
   "source": [
    "Numpy arrays do not support the view() and head() methods. [More on accessing the numpy data](https://jakevdp.github.io/PythonDataScienceHandbook/02.02-the-basics-of-numpy-arrays.html)\n"
   ]
  },
  {
   "cell_type": "markdown",
   "metadata": {},
   "source": [
    "### Feature Scaling\n",
    "\n",
    "Next we need to rescale our data to the range from 0 to 1. \n",
    "\n",
    "Feature scaling is essential as discussed if the Features lecture and needs to be applied to both the training and test sets.\n",
    "\n",
    "It is computed using the ScikitLearn library [MinMaxScaler()](http://scikit-learn.org/stable/modules/generated/sklearn.preprocessing.MinMaxScaler.html#sklearn.preprocessing.MinMaxScaler) which transforms the selected feature by scaling it to a given range. If more than one, this estimator scales and translates each feature individually such that it is in the given range on the training set, i.e. between zero and one."
   ]
  },
  {
   "cell_type": "code",
   "execution_count": 190,
   "metadata": {},
   "outputs": [],
   "source": [
    "# Feature Scaling\n",
    "\n",
    "# import the MinMaxScaler\n",
    "from sklearn.preprocessing import MinMaxScaler"
   ]
  },
  {
   "cell_type": "code",
   "execution_count": 191,
   "metadata": {},
   "outputs": [],
   "source": [
    "# create a scaler instance to rescale all data to the range of 0.0 to 1.0 \n",
    "sc = MinMaxScaler(feature_range = (0, 1))"
   ]
  },
  {
   "cell_type": "code",
   "execution_count": 192,
   "metadata": {},
   "outputs": [],
   "source": [
    "# create the actual training set of scaled values\n",
    "training_set_scaled = sc.fit_transform(training_set)"
   ]
  },
  {
   "cell_type": "code",
   "execution_count": 193,
   "metadata": {},
   "outputs": [
    {
     "data": {
      "text/plain": [
       "array([[0.54566605],\n",
       "       [0.54845718],\n",
       "       [0.52333696],\n",
       "       ...,\n",
       "       [0.40037218],\n",
       "       [0.40316328],\n",
       "       [0.38548614]])"
      ]
     },
     "execution_count": 193,
     "metadata": {},
     "output_type": "execute_result"
    }
   ],
   "source": [
    "#Using the normalized data to train model.\n",
    "training_set_scaled"
   ]
  },
  {
   "cell_type": "markdown",
   "metadata": {},
   "source": [
    "### Splitting the training set to dependent and independent variables"
   ]
  },
  {
   "cell_type": "code",
   "execution_count": 194,
   "metadata": {},
   "outputs": [],
   "source": [
    "# Creating a data structure with 90 timesteps and 1 output\n",
    "\n",
    "# the 90 stock prices in the last 3 months before today\n",
    "X_train = [] "
   ]
  },
  {
   "cell_type": "code",
   "execution_count": 195,
   "metadata": {},
   "outputs": [
    {
     "data": {
      "text/plain": [
       "(2537, 1)"
      ]
     },
     "execution_count": 195,
     "metadata": {},
     "output_type": "execute_result"
    }
   ],
   "source": [
    "training_set_scaled.shape"
   ]
  },
  {
   "cell_type": "code",
   "execution_count": 196,
   "metadata": {},
   "outputs": [],
   "source": [
    "# the stock price today\n",
    "y_train = [] "
   ]
  },
  {
   "cell_type": "code",
   "execution_count": 197,
   "metadata": {},
   "outputs": [],
   "source": [
    "# we start from day 90 because that is the first instance allowing us to \n",
    "# go back 90 days\n",
    "for i in range(90, 1258): \n",
    "    # 0 is the column ID, the only column in this case.    \n",
    "    # put the last 60 days values in one row of X_train\n",
    "    X_train.append(training_set_scaled[i-90:i, 0]) \n",
    "    y_train.append(training_set_scaled[i, 0])\n"
   ]
  },
  {
   "cell_type": "code",
   "execution_count": 198,
   "metadata": {},
   "outputs": [],
   "source": [
    "X_train, y_train = np.array(X_train), np.array(y_train)"
   ]
  },
  {
   "cell_type": "code",
   "execution_count": 199,
   "metadata": {},
   "outputs": [
    {
     "data": {
      "text/plain": [
       "array([[0.54566605, 0.54845718, 0.52333696, ..., 0.42208096, 0.46162198,\n",
       "        0.44208408],\n",
       "       [0.54845718, 0.52333696, 0.48534656, ..., 0.46162198, 0.44208408,\n",
       "        0.44394482],\n",
       "       [0.52333696, 0.48534656, 0.49682124, ..., 0.44208408, 0.44394482,\n",
       "        0.45247326],\n",
       "       ...,\n",
       "       [0.46332767, 0.47123584, 0.46503338, ..., 0.49061869, 0.49852694,\n",
       "        0.49759653],\n",
       "       [0.47123584, 0.46503338, 0.48131495, ..., 0.49852694, 0.49759653,\n",
       "        0.49992251],\n",
       "       [0.46503338, 0.48131495, 0.47542255, ..., 0.49759653, 0.49992251,\n",
       "        0.48146999]])"
      ]
     },
     "execution_count": 199,
     "metadata": {},
     "output_type": "execute_result"
    }
   ],
   "source": [
    "X_train"
   ]
  },
  {
   "cell_type": "code",
   "execution_count": 200,
   "metadata": {},
   "outputs": [
    {
     "data": {
      "text/plain": [
       "(1168, 90)"
      ]
     },
     "execution_count": 200,
     "metadata": {},
     "output_type": "execute_result"
    }
   ],
   "source": [
    "X_train.shape"
   ]
  },
  {
   "cell_type": "code",
   "execution_count": 201,
   "metadata": {},
   "outputs": [
    {
     "data": {
      "text/plain": [
       "array([0.44394482, 0.45247326, 0.45697009, ..., 0.49992251, 0.48146999,\n",
       "       0.48643206])"
      ]
     },
     "execution_count": 201,
     "metadata": {},
     "output_type": "execute_result"
    }
   ],
   "source": [
    "y_train"
   ]
  },
  {
   "cell_type": "markdown",
   "metadata": {},
   "source": [
    "### Reshaping the Matrix\n",
    "\n",
    "We need to add a new matrix dimension to accommodate the indicator (predictor). \n",
    "\n",
    "NumPy matrices are tensors (3D) and essentially we need to specify that our matrix consists of **60 days** (dimension x) times **total days in data set** (dimension y) times **1 value per matrix cell (scalar)** (dimension z)"
   ]
  },
  {
   "cell_type": "markdown",
   "metadata": {},
   "source": [
    "If we were to add the stock value of somebody else together with the the past 60 days of Google, we need to change the length of the 3 dimension to  2.  RNN training tables are 3D!!! Read: [Reshaping NumPy Array | Numpy Array Reshape Examples](https://backtobazics.com/python/python-reshaping-numpy-array-examples/)"
   ]
  },
  {
   "cell_type": "code",
   "execution_count": 203,
   "metadata": {},
   "outputs": [],
   "source": [
    "# Reshaping the data matrix, we retain the 2 original dimensions and add a third of depth=1\n",
    "X_train = np.reshape(X_train, (X_train.shape[0], X_train.shape[1], 1))"
   ]
  },
  {
   "cell_type": "code",
   "execution_count": 204,
   "metadata": {},
   "outputs": [
    {
     "data": {
      "text/plain": [
       "array([[[0.54566605],\n",
       "        [0.54845718],\n",
       "        [0.52333696],\n",
       "        ...,\n",
       "        [0.42208096],\n",
       "        [0.46162198],\n",
       "        [0.44208408]],\n",
       "\n",
       "       [[0.54845718],\n",
       "        [0.52333696],\n",
       "        [0.48534656],\n",
       "        ...,\n",
       "        [0.46162198],\n",
       "        [0.44208408],\n",
       "        [0.44394482]],\n",
       "\n",
       "       [[0.52333696],\n",
       "        [0.48534656],\n",
       "        [0.49682124],\n",
       "        ...,\n",
       "        [0.44208408],\n",
       "        [0.44394482],\n",
       "        [0.45247326]],\n",
       "\n",
       "       ...,\n",
       "\n",
       "       [[0.46332767],\n",
       "        [0.47123584],\n",
       "        [0.46503338],\n",
       "        ...,\n",
       "        [0.49061869],\n",
       "        [0.49852694],\n",
       "        [0.49759653]],\n",
       "\n",
       "       [[0.47123584],\n",
       "        [0.46503338],\n",
       "        [0.48131495],\n",
       "        ...,\n",
       "        [0.49852694],\n",
       "        [0.49759653],\n",
       "        [0.49992251]],\n",
       "\n",
       "       [[0.46503338],\n",
       "        [0.48131495],\n",
       "        [0.47542255],\n",
       "        ...,\n",
       "        [0.49759653],\n",
       "        [0.49992251],\n",
       "        [0.48146999]]])"
      ]
     },
     "execution_count": 204,
     "metadata": {},
     "output_type": "execute_result"
    }
   ],
   "source": [
    "X_train"
   ]
  },
  {
   "cell_type": "markdown",
   "metadata": {},
   "source": [
    "## Building the RNN"
   ]
  },
  {
   "cell_type": "markdown",
   "metadata": {},
   "source": [
    "### RNN initialization\n",
    "\n",
    "- Import the sequential model from the Keras API;\n",
    "- Import the Dense layer template from the Keras API;\n",
    "- Import the LSTM model from the Keras API\n",
    "- Create an instance of the sequential model called regressor because we want to predict a continuous value"
   ]
  },
  {
   "cell_type": "code",
   "execution_count": 205,
   "metadata": {},
   "outputs": [],
   "source": [
    "# Importing the Keras libraries and packages\n",
    "from keras.models import Sequential\n",
    "from keras.layers import Dense\n",
    "from keras.layers import LSTM\n",
    "from keras.layers import Dropout"
   ]
  },
  {
   "cell_type": "code",
   "execution_count": 206,
   "metadata": {},
   "outputs": [],
   "source": [
    "# Initialising the RNN as a sequence of layers\n",
    "regressor = Sequential()"
   ]
  },
  {
   "cell_type": "markdown",
   "metadata": {},
   "source": [
    "### Add First Layer\n",
    "\n",
    "We first add an object of the LSTM class! \n",
    "\n",
    "- The first argument is the number of units or LSTM memory cells. Include many neurons to address the high dimensionality of the problem; say 50 neurons! \n",
    "- Second arg: return sequences = true; stacked LSTM !\n",
    "- Third arg: input 3D shape: observations vs time steps vs number of indicators"
   ]
  },
  {
   "cell_type": "code",
   "execution_count": 207,
   "metadata": {},
   "outputs": [],
   "source": [
    "# Adding the input layer and the LSTM layer\n",
    "regressor.add(LSTM(units = 50, return_sequences = True, input_shape =  (X_train.shape[1], 1)))"
   ]
  },
  {
   "cell_type": "code",
   "execution_count": 208,
   "metadata": {},
   "outputs": [],
   "source": [
    "# the argument is the dropout rate to ignore in the layers (20%), \n",
    "# i.e. 50 units * 20% = 10 units will be dropped each time\n",
    "regressor.add(Dropout(0.2))\n"
   ]
  },
  {
   "cell_type": "markdown",
   "metadata": {},
   "source": [
    "### Add More Layers\n",
    "\n",
    "We can add more LSTM layers but along with Dropout regularization to make sure we avoid overfitting! \n",
    "\n",
    "We don’t need to add the shape of the layer again because it is recognized automatically from the number of input units.\n",
    "\n",
    "The last layer does not return a sequence but connected directly to a fully connected output layer.\n"
   ]
  },
  {
   "cell_type": "code",
   "execution_count": 209,
   "metadata": {},
   "outputs": [],
   "source": [
    "# Adding a second LSTM layer and some Dropout regularisation\n",
    "regressor.add(LSTM(units = 50, return_sequences = True))\n",
    "regressor.add(Dropout(0.2))"
   ]
  },
  {
   "cell_type": "code",
   "execution_count": 210,
   "metadata": {},
   "outputs": [],
   "source": [
    "# Adding a third LSTM layer and some Dropout regularisation\n",
    "regressor.add(LSTM(units = 50, return_sequences = True))\n",
    "regressor.add(Dropout(0.2))"
   ]
  },
  {
   "cell_type": "code",
   "execution_count": 211,
   "metadata": {},
   "outputs": [],
   "source": [
    "# Adding a fourth LSTM layer and some Dropout regularisation\n",
    "regressor.add(LSTM(units = 50, return_sequences = True))\n",
    "regressor.add(Dropout(0.2))"
   ]
  },
  {
   "cell_type": "code",
   "execution_count": 212,
   "metadata": {},
   "outputs": [],
   "source": [
    "# Adding a fifth LSTM layer and some Dropout regularisation\n",
    "# we removed the return_sequences because we no longer return a \n",
    "# sequence but a value instead\n",
    "regressor.add(LSTM(units = 50))\n",
    "regressor.add(Dropout(0.2))"
   ]
  },
  {
   "cell_type": "markdown",
   "metadata": {},
   "source": [
    "### Add Output Layer & Compile\n",
    "\n",
    "The output has 1 dimension , i.e. one value to be predicted thus or output fully connected layer has dimensionality = 1.\n",
    "\n",
    "- **Optimizer**: rmsprop is recommended in the Keras documentation. The Adam optimizer is also a powerful choice.\n",
    "- **Loss function**: regression problems take the mean square error as most common"
   ]
  },
  {
   "cell_type": "code",
   "execution_count": 213,
   "metadata": {},
   "outputs": [],
   "source": [
    "# Adding the output layer\n",
    "regressor.add(Dense(units = 1))"
   ]
  },
  {
   "cell_type": "code",
   "execution_count": 214,
   "metadata": {},
   "outputs": [],
   "source": [
    "# Compiling the RNN\n",
    "regressor.compile(optimizer = 'adam', loss = 'mean_squared_error')"
   ]
  },
  {
   "cell_type": "markdown",
   "metadata": {},
   "source": [
    "## Train and deploy the RNN"
   ]
  },
  {
   "cell_type": "markdown",
   "metadata": {},
   "source": [
    "### Fit the RNN to the Training set\n",
    "\n",
    "We now want to train our RNN using the data in our **Training Set X** and **predictors in y** (ground truth in this case). Parameters that can be specified are the:\n",
    "\n",
    "- **Batch size**:  update the cell weights not on every stock price on every batch_size values; \n",
    "- **Number of epochs**: how many iterations to be used, i.e. number of forward and backward propagations for the update of the weights\n"
   ]
  },
  {
   "cell_type": "code",
   "execution_count": 216,
   "metadata": {},
   "outputs": [
    {
     "name": "stdout",
     "output_type": "stream",
     "text": [
      "Epoch 1/100\n",
      "37/37 [==============================] - 7s 178ms/step - loss: 0.0092\n",
      "Epoch 2/100\n",
      "37/37 [==============================] - 6s 172ms/step - loss: 0.0074\n",
      "Epoch 3/100\n",
      "37/37 [==============================] - 6s 170ms/step - loss: 0.0071\n",
      "Epoch 4/100\n",
      "37/37 [==============================] - 6s 165ms/step - loss: 0.0081\n",
      "Epoch 5/100\n",
      "37/37 [==============================] - 6s 161ms/step - loss: 0.0067\n",
      "Epoch 6/100\n",
      "37/37 [==============================] - 6s 167ms/step - loss: 0.0058\n",
      "Epoch 7/100\n",
      "37/37 [==============================] - 6s 170ms/step - loss: 0.0057\n",
      "Epoch 8/100\n",
      "37/37 [==============================] - 6s 169ms/step - loss: 0.0058\n",
      "Epoch 9/100\n",
      "37/37 [==============================] - 6s 169ms/step - loss: 0.0059\n",
      "Epoch 10/100\n",
      "37/37 [==============================] - 6s 170ms/step - loss: 0.0058\n",
      "Epoch 11/100\n",
      "37/37 [==============================] - 6s 169ms/step - loss: 0.0052\n",
      "Epoch 12/100\n",
      "37/37 [==============================] - 6s 169ms/step - loss: 0.0053\n",
      "Epoch 13/100\n",
      "37/37 [==============================] - 6s 170ms/step - loss: 0.0046\n",
      "Epoch 14/100\n",
      "37/37 [==============================] - 6s 175ms/step - loss: 0.0059\n",
      "Epoch 15/100\n",
      "37/37 [==============================] - 6s 172ms/step - loss: 0.0046\n",
      "Epoch 16/100\n",
      "37/37 [==============================] - 6s 170ms/step - loss: 0.0048\n",
      "Epoch 17/100\n",
      "37/37 [==============================] - 6s 169ms/step - loss: 0.0044\n",
      "Epoch 18/100\n",
      "37/37 [==============================] - 6s 168ms/step - loss: 0.0043\n",
      "Epoch 19/100\n",
      "37/37 [==============================] - 6s 168ms/step - loss: 0.0041\n",
      "Epoch 20/100\n",
      "37/37 [==============================] - 7s 185ms/step - loss: 0.0039\n",
      "Epoch 21/100\n",
      "37/37 [==============================] - 8s 223ms/step - loss: 0.0040\n",
      "Epoch 22/100\n",
      "37/37 [==============================] - 7s 201ms/step - loss: 0.0037\n",
      "Epoch 23/100\n",
      "37/37 [==============================] - 8s 207ms/step - loss: 0.0036\n",
      "Epoch 24/100\n",
      "37/37 [==============================] - 7s 186ms/step - loss: 0.0037\n",
      "Epoch 25/100\n",
      "37/37 [==============================] - 7s 176ms/step - loss: 0.0035\n",
      "Epoch 26/100\n",
      "37/37 [==============================] - 7s 185ms/step - loss: 0.0033\n",
      "Epoch 27/100\n",
      "37/37 [==============================] - 7s 182ms/step - loss: 0.0034\n",
      "Epoch 28/100\n",
      "37/37 [==============================] - 7s 187ms/step - loss: 0.0033\n",
      "Epoch 29/100\n",
      "37/37 [==============================] - 8s 213ms/step - loss: 0.0034\n",
      "Epoch 30/100\n",
      "37/37 [==============================] - 8s 219ms/step - loss: 0.0031\n",
      "Epoch 31/100\n",
      "37/37 [==============================] - 8s 209ms/step - loss: 0.0034\n",
      "Epoch 32/100\n",
      "37/37 [==============================] - 8s 221ms/step - loss: 0.0027\n",
      "Epoch 33/100\n",
      "37/37 [==============================] - 7s 191ms/step - loss: 0.0031\n",
      "Epoch 34/100\n",
      "37/37 [==============================] - 8s 209ms/step - loss: 0.0035\n",
      "Epoch 35/100\n",
      "37/37 [==============================] - 8s 204ms/step - loss: 0.0030\n",
      "Epoch 36/100\n",
      "37/37 [==============================] - 8s 210ms/step - loss: 0.0030\n",
      "Epoch 37/100\n",
      "37/37 [==============================] - 8s 217ms/step - loss: 0.0030\n",
      "Epoch 38/100\n",
      "37/37 [==============================] - 8s 207ms/step - loss: 0.0027\n",
      "Epoch 39/100\n",
      "37/37 [==============================] - 8s 210ms/step - loss: 0.0029\n",
      "Epoch 40/100\n",
      "37/37 [==============================] - 8s 210ms/step - loss: 0.0027\n",
      "Epoch 41/100\n",
      "37/37 [==============================] - 8s 222ms/step - loss: 0.0027\n",
      "Epoch 42/100\n",
      "37/37 [==============================] - 8s 210ms/step - loss: 0.0029\n",
      "Epoch 43/100\n",
      "37/37 [==============================] - 8s 206ms/step - loss: 0.0027\n",
      "Epoch 44/100\n",
      "37/37 [==============================] - 8s 210ms/step - loss: 0.0026\n",
      "Epoch 45/100\n",
      "37/37 [==============================] - 8s 211ms/step - loss: 0.0027\n",
      "Epoch 46/100\n",
      "37/37 [==============================] - 8s 211ms/step - loss: 0.0025\n",
      "Epoch 47/100\n",
      "37/37 [==============================] - 8s 214ms/step - loss: 0.0023\n",
      "Epoch 48/100\n",
      "37/37 [==============================] - 8s 214ms/step - loss: 0.0023\n",
      "Epoch 49/100\n",
      "37/37 [==============================] - 8s 220ms/step - loss: 0.0025\n",
      "Epoch 50/100\n",
      "37/37 [==============================] - 8s 210ms/step - loss: 0.0023\n",
      "Epoch 51/100\n",
      "37/37 [==============================] - 8s 210ms/step - loss: 0.0023\n",
      "Epoch 52/100\n",
      "37/37 [==============================] - 8s 217ms/step - loss: 0.0022\n",
      "Epoch 53/100\n",
      "37/37 [==============================] - 8s 211ms/step - loss: 0.0022\n",
      "Epoch 54/100\n",
      "37/37 [==============================] - 8s 217ms/step - loss: 0.0023\n",
      "Epoch 55/100\n",
      "37/37 [==============================] - 8s 220ms/step - loss: 0.0020\n",
      "Epoch 56/100\n",
      "37/37 [==============================] - 8s 217ms/step - loss: 0.0019\n",
      "Epoch 57/100\n",
      "37/37 [==============================] - 8s 223ms/step - loss: 0.0022\n",
      "Epoch 58/100\n",
      "37/37 [==============================] - 8s 211ms/step - loss: 0.0023\n",
      "Epoch 59/100\n",
      "37/37 [==============================] - 8s 217ms/step - loss: 0.0021\n",
      "Epoch 60/100\n",
      "37/37 [==============================] - 8s 214ms/step - loss: 0.0024\n",
      "Epoch 61/100\n",
      "37/37 [==============================] - 8s 220ms/step - loss: 0.0023\n",
      "Epoch 62/100\n",
      "37/37 [==============================] - 8s 226ms/step - loss: 0.0018\n",
      "Epoch 63/100\n",
      "37/37 [==============================] - 8s 221ms/step - loss: 0.0020\n",
      "Epoch 64/100\n",
      "37/37 [==============================] - 9s 230ms/step - loss: 0.0021\n",
      "Epoch 65/100\n",
      "37/37 [==============================] - 8s 228ms/step - loss: 0.0019\n",
      "Epoch 66/100\n",
      "37/37 [==============================] - 8s 219ms/step - loss: 0.0018\n",
      "Epoch 67/100\n",
      "37/37 [==============================] - 8s 229ms/step - loss: 0.0022\n",
      "Epoch 68/100\n",
      "37/37 [==============================] - 9s 232ms/step - loss: 0.0020\n",
      "Epoch 69/100\n",
      "37/37 [==============================] - 8s 229ms/step - loss: 0.0019\n",
      "Epoch 70/100\n",
      "37/37 [==============================] - 8s 226ms/step - loss: 0.0020\n",
      "Epoch 71/100\n",
      "37/37 [==============================] - 8s 211ms/step - loss: 0.0020\n",
      "Epoch 72/100\n",
      "37/37 [==============================] - 8s 216ms/step - loss: 0.0018\n",
      "Epoch 73/100\n",
      "37/37 [==============================] - 8s 213ms/step - loss: 0.0018\n",
      "Epoch 74/100\n",
      "37/37 [==============================] - 8s 207ms/step - loss: 0.0017\n",
      "Epoch 75/100\n",
      "37/37 [==============================] - 8s 213ms/step - loss: 0.0017\n",
      "Epoch 76/100\n",
      "37/37 [==============================] - 8s 208ms/step - loss: 0.0016\n",
      "Epoch 77/100\n",
      "37/37 [==============================] - 8s 213ms/step - loss: 0.0018\n",
      "Epoch 78/100\n",
      "37/37 [==============================] - 8s 221ms/step - loss: 0.0016\n",
      "Epoch 79/100\n",
      "37/37 [==============================] - 8s 211ms/step - loss: 0.0015\n",
      "Epoch 80/100\n",
      "37/37 [==============================] - 8s 209ms/step - loss: 0.0016\n",
      "Epoch 81/100\n",
      "37/37 [==============================] - 8s 206ms/step - loss: 0.0016\n",
      "Epoch 82/100\n",
      "37/37 [==============================] - 8s 204ms/step - loss: 0.0016\n",
      "Epoch 83/100\n",
      "37/37 [==============================] - 8s 205ms/step - loss: 0.0016\n",
      "Epoch 84/100\n",
      "37/37 [==============================] - 7s 201ms/step - loss: 0.0014\n",
      "Epoch 85/100\n",
      "37/37 [==============================] - 8s 203ms/step - loss: 0.0014\n",
      "Epoch 86/100\n",
      "37/37 [==============================] - 7s 202ms/step - loss: 0.0015\n",
      "Epoch 87/100\n",
      "37/37 [==============================] - 7s 201ms/step - loss: 0.0014\n",
      "Epoch 88/100\n",
      "37/37 [==============================] - 7s 202ms/step - loss: 0.0014\n",
      "Epoch 89/100\n",
      "37/37 [==============================] - 7s 202ms/step - loss: 0.0014\n",
      "Epoch 90/100\n",
      "37/37 [==============================] - 8s 206ms/step - loss: 0.0014\n",
      "Epoch 91/100\n",
      "37/37 [==============================] - 8s 203ms/step - loss: 0.0015\n",
      "Epoch 92/100\n",
      "37/37 [==============================] - 8s 204ms/step - loss: 0.0015\n",
      "Epoch 93/100\n",
      "37/37 [==============================] - 8s 203ms/step - loss: 0.0014\n",
      "Epoch 94/100\n",
      "37/37 [==============================] - 8s 203ms/step - loss: 0.0014\n",
      "Epoch 95/100\n",
      "37/37 [==============================] - 8s 214ms/step - loss: 0.0013\n",
      "Epoch 96/100\n",
      "37/37 [==============================] - 9s 246ms/step - loss: 0.0013\n",
      "Epoch 97/100\n",
      "37/37 [==============================] - 9s 236ms/step - loss: 0.0013\n",
      "Epoch 98/100\n",
      "37/37 [==============================] - 9s 233ms/step - loss: 0.0013\n",
      "Epoch 99/100\n",
      "37/37 [==============================] - 9s 234ms/step - loss: 0.0015\n",
      "Epoch 100/100\n",
      "37/37 [==============================] - 8s 224ms/step - loss: 0.0012\n"
     ]
    },
    {
     "data": {
      "text/plain": [
       "<tensorflow.python.keras.callbacks.History at 0x7f825893d550>"
      ]
     },
     "execution_count": 216,
     "metadata": {},
     "output_type": "execute_result"
    }
   ],
   "source": [
    "# Fitting the RNN to the Training set\n",
    "regressor.fit(X_train, y_train, epochs = 100, batch_size = 3)"
   ]
  },
  {
   "cell_type": "markdown",
   "metadata": {},
   "source": [
    "### Computing Predictions\n",
    "\n",
    "Create a data-frame by importing the Google Stock Price Test set for January 2017 using pandas and make it a numpy array.\n",
    "\n",
    "There are 20 financial days in one month, weekends are excluded!\n"
   ]
  },
  {
   "cell_type": "code",
   "execution_count": 217,
   "metadata": {},
   "outputs": [],
   "source": [
    "# Getting the real stock price for February 1st 2012 - \n",
    "# January 31st 2017\n",
    "dataset_test = pd.read_csv('test_data.csv')"
   ]
  },
  {
   "cell_type": "code",
   "execution_count": 218,
   "metadata": {},
   "outputs": [
    {
     "data": {
      "text/plain": [
       "22"
      ]
     },
     "execution_count": 218,
     "metadata": {},
     "output_type": "execute_result"
    }
   ],
   "source": [
    "real_stock_price = dataset_test.iloc[:, 1:2].values\n",
    "real_stock_price.size"
   ]
  },
  {
   "cell_type": "code",
   "execution_count": 219,
   "metadata": {},
   "outputs": [
    {
     "data": {
      "text/plain": [
       "array([[31.209999],\n",
       "       [30.08    ],\n",
       "       [28.01    ],\n",
       "       [27.700001],\n",
       "       [26.549999],\n",
       "       [26.18    ],\n",
       "       [26.16    ],\n",
       "       [25.01    ],\n",
       "       [24.469999],\n",
       "       [24.799999],\n",
       "       [24.02    ],\n",
       "       [23.040001],\n",
       "       [24.530001],\n",
       "       [23.93    ],\n",
       "       [23.65    ],\n",
       "       [24.280001],\n",
       "       [23.549999],\n",
       "       [22.76    ],\n",
       "       [22.620001],\n",
       "       [21.51    ],\n",
       "       [22.040001],\n",
       "       [23.08    ]])"
      ]
     },
     "execution_count": 219,
     "metadata": {},
     "output_type": "execute_result"
    }
   ],
   "source": [
    "real_stock_price"
   ]
  },
  {
   "cell_type": "markdown",
   "metadata": {},
   "source": [
    "To predict the stock price value for each day in January 2017, we need the values in the last 60 days.\n",
    "\n",
    "To obtain this **history** we need to combine both the training and test sets in one.\n",
    "\n",
    "If we were to use the training_set and test_set we would need to use the scaler  but that would change the actual test values.  Thus concatenate the original data frames!\n"
   ]
  },
  {
   "cell_type": "code",
   "execution_count": 220,
   "metadata": {},
   "outputs": [],
   "source": [
    "# Getting the predicted stock price of 2017\n",
    "\n",
    "# axis = 0 means concatenate the lines (i.e. vertical axis)\n",
    "dataset_total = pd.concat((dataset_train['Open'], dataset_test['Open']), axis = 0) "
   ]
  },
  {
   "cell_type": "code",
   "execution_count": 221,
   "metadata": {},
   "outputs": [
    {
     "data": {
      "text/plain": [
       "2559"
      ]
     },
     "execution_count": 221,
     "metadata": {},
     "output_type": "execute_result"
    }
   ],
   "source": [
    "dataset_total.size\n"
   ]
  },
  {
   "cell_type": "code",
   "execution_count": 222,
   "metadata": {},
   "outputs": [],
   "source": [
    "# the difference in the length of the first two gives us \n",
    "# the first day in 2017, and we need to go back 90 days to get the necessary range\n",
    "inputs = dataset_total[len(dataset_total) - len(dataset_test) - 90:].values"
   ]
  },
  {
   "cell_type": "code",
   "execution_count": 223,
   "metadata": {},
   "outputs": [
    {
     "data": {
      "text/plain": [
       "112"
      ]
     },
     "execution_count": 223,
     "metadata": {},
     "output_type": "execute_result"
    }
   ],
   "source": [
    "inputs.size"
   ]
  },
  {
   "cell_type": "code",
   "execution_count": 224,
   "metadata": {},
   "outputs": [],
   "source": [
    "# we did not use iloc from panda so lets reshape the numpy array for \n",
    "# compatibility: i.e. all the values from input lines to be stacked in one \n",
    "# column. The -1 means that the numpy has no knowledge of how the \n",
    "# values were stored in lines. The 1 means we want to them in one \n",
    "# column.\n",
    "\n",
    "inputs = inputs.reshape(-1,1) \n",
    "\n",
    "# apply the feature scaler\n",
    "inputs = sc.transform(inputs)"
   ]
  },
  {
   "cell_type": "markdown",
   "metadata": {},
   "source": [
    "1. For each price in Jan. 2017 we need the **immediate 60 values** before it. \n",
    "2. We have 21 prices in January;\n",
    "3. We need a numpy 3D array of 60 prices (columns) times 21 days (rows) times 1 dependent variable \n",
    "4. We don’t need y_test. That is what we are trying to compute!\n"
   ]
  },
  {
   "cell_type": "code",
   "execution_count": 225,
   "metadata": {},
   "outputs": [],
   "source": [
    "# Getting the predicted stock price of 2017\n",
    "X_test = []"
   ]
  },
  {
   "cell_type": "code",
   "execution_count": 226,
   "metadata": {},
   "outputs": [],
   "source": [
    "# the first 60 from inputs are from training set; start \n",
    "# from 60 and get the extra 20, i.e. up to 80\n",
    "for i in range(90, 112): \n",
    "    X_test.append(inputs[i-90:i, 0])\n"
   ]
  },
  {
   "cell_type": "code",
   "execution_count": 227,
   "metadata": {},
   "outputs": [],
   "source": [
    "X_test = np.array(X_test) # not 3D structure yet"
   ]
  },
  {
   "cell_type": "code",
   "execution_count": 228,
   "metadata": {},
   "outputs": [],
   "source": [
    "# create a 3D structure\n",
    "X_test = np.reshape(X_test, (X_test.shape[0], X_test.shape[1], 1))"
   ]
  },
  {
   "cell_type": "code",
   "execution_count": 229,
   "metadata": {},
   "outputs": [],
   "source": [
    "predicted_stock_price = regressor.predict(X_test)"
   ]
  },
  {
   "cell_type": "code",
   "execution_count": 230,
   "metadata": {},
   "outputs": [
    {
     "data": {
      "text/plain": [
       "22"
      ]
     },
     "execution_count": 230,
     "metadata": {},
     "output_type": "execute_result"
    }
   ],
   "source": [
    "# need to inverse the scaling to get meaningful predicted stock price # outputs\n",
    "predicted_stock_price = sc.inverse_transform(predicted_stock_price) \n",
    "predicted_stock_price.size"
   ]
  },
  {
   "cell_type": "markdown",
   "metadata": {},
   "source": [
    "### Result Visualization\n"
   ]
  },
  {
   "cell_type": "code",
   "execution_count": 231,
   "metadata": {},
   "outputs": [
    {
     "data": {
      "image/png": "[encoded data removed]",
      "text/plain": [
       "<Figure size 432x288 with 1 Axes>"
      ]
     },
     "metadata": {
      "needs_background": "light"
     },
     "output_type": "display_data"
    }
   ],
   "source": [
    "# Visualising the results\n",
    "\n",
    "plt.plot(real_stock_price, color = 'red', label = 'Real Navistar International Corporation Stock Price')\n",
    "\n",
    "plt.plot(predicted_stock_price, color = 'blue', label = 'Predicted Navistar International Corporation Stock Price')\n",
    "\n",
    "plt.title('Navistar International Corporation Price Prediction')\n",
    "plt.xlabel('Time')\n",
    "plt.ylabel('Navistar International Corporation Stock Price')\n",
    "plt.legend()\n",
    "\n",
    "plt.show()"
   ]
  },
  {
   "cell_type": "markdown",
   "metadata": {},
   "source": [
    "The blue line shows the trend of the stock for the month of January 2017. \n",
    "\n",
    "Some observations:\n",
    "- The prediction lags behind the actual price curve because the model cannot react to fast non-linear changes. Spikes are examples of fast non-linear changes\n",
    "- Model reacts pretty well to smooth changes"
   ]
  },
  {
   "cell_type": "markdown",
   "metadata": {},
   "source": [
    "### Compute the RMSE\n",
    "\n",
    "If we need to compute the RMSE for our Stock Price Prediction problem, we use the real stock price and predicted stock price as shown.\n",
    "\n",
    "Then consider dividing this RMSE by the range of the Google Stock Price values of January 2017 to get a relative error, as opposed to an absolute error. \n"
   ]
  },
  {
   "cell_type": "code",
   "execution_count": 232,
   "metadata": {},
   "outputs": [],
   "source": [
    "#import the libraries\n",
    "import math\n",
    "from sklearn.metrics import mean_squared_error"
   ]
  },
  {
   "cell_type": "code",
   "execution_count": 233,
   "metadata": {},
   "outputs": [
    {
     "data": {
      "text/plain": [
       "0.9422310290763637"
      ]
     },
     "execution_count": 233,
     "metadata": {},
     "output_type": "execute_result"
    }
   ],
   "source": [
    "#the average of the square of the difference between the observed and predicted values of a variable.\n",
    "rmse = math.sqrt( mean_squared_error( test_set, predicted_stock_price))\n",
    "rmse"
   ]
  },
  {
   "cell_type": "code",
   "execution_count": 235,
   "metadata": {},
   "outputs": [
    {
     "data": {
      "text/plain": [
       "0.7650780344626685"
      ]
     },
     "execution_count": 235,
     "metadata": {},
     "output_type": "execute_result"
    }
   ],
   "source": [
    "#subsequent time versus initial time\n",
    "from sklearn.metrics import mean_absolute_error\n",
    "mae=mean_absolute_error(test_set,predicted_stock_price)\n",
    "mae"
   ]
  },
  {
   "cell_type": "markdown",
   "metadata": {},
   "source": [
    "## Improving the RNN"
   ]
  },
  {
   "cell_type": "markdown",
   "metadata": {},
   "source": [
    "The new data need to be placed in the same order/format  as in the case of the training/test sets.\n",
    "\n",
    "1. Getting more training data: we trained our model on the past 5 years of the  Google Stock Price but it would be even better to train it on the past 10 years.\n",
    "\n",
    "2. Increasing the number of time steps: the model remembered the stock price from the 60 previous financial days to predict the stock price of the next day. That’s because we chose a number of 60 time steps (3 months). You could try to increase the number of time steps, by choosing for example 120 time steps (6 months).\n",
    "\n",
    "3. Adding some other indicators: if you have the financial instinct that the stock price of some other companies might be correlated to the one of Google, you could add this other stock price as a new indicator in the training data.\n",
    "\n",
    "4. Adding more LSTM layers: we built a RNN with four LSTM layers but you could try with even more.\n",
    "\n",
    "5. Adding more neurons in the LSTM layers: we highlighted the fact that we needed a high number of neurons in the LSTM layers to respond better to the complexity of the problem and we chose to include 50 neurons in each of our 4 LSTM layers. You could try an architecture with even more neurons in each of the 4 (or more) LSTM layers."
   ]
  },
  {
   "cell_type": "markdown",
   "metadata": {},
   "source": [
    "### Fine tuning the RNN\n",
    "\n",
    "Parameter Tuning on the RNN model: we are dealing with a Regression problem because we predict a continuous outcome.\n",
    "\n",
    "**Tip**: replace: scoring = 'accuracy' by scoring = 'neg_mean_squared_error' in the GridSearchCV class parameters as we did in the ANN case."
   ]
  },
  {
   "cell_type": "code",
   "execution_count": null,
   "metadata": {},
   "outputs": [],
   "source": []
  }
 ],
 "metadata": {
  "kernelspec": {
   "display_name": "Python 3",
   "language": "python",
   "name": "python3"
  },
  "language_info": {
   "codemirror_mode": {
    "name": "ipython",
    "version": 3
   },
   "file_extension": ".py",
   "mimetype": "text/x-python",
   "name": "python",
   "nbconvert_exporter": "python",
   "pygments_lexer": "ipython3",
   "version": "3.8.6"
  }
 },
 "nbformat": 4,
 "nbformat_minor": 2
}
